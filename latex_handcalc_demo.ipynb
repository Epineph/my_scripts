{
 "cells": [
  {
   "cell_type": "markdown",
   "id": "1855f14d",
   "metadata": {},
   "source": [
    "# Handcalc-style Dynamic LaTeX with SymPy\n",
    "\n",
    "This notebook shows a compact pattern to:\n",
    "1. Define a symbolic expression with **SymPy**.\n",
    "2. Display the symbolic formula in LaTeX.\n",
    "3. Substitute numeric values and render that step in LaTeX.\n",
    "4. Evaluate numerically and present the result in LaTeX.\n",
    "\n",
    "> Tip: install SymPy if needed via `pip install sympy`.\n"
   ]
  },
  {
   "cell_type": "code",
   "execution_count": null,
   "id": "e1f36525",
   "metadata": {},
   "outputs": [],
   "source": [
    "\n",
    "from sympy import symbols, sin, cos, Eq, sympify, latex\n",
    "from sympy import Matrix, simplify\n",
    "from IPython.display import display, Math\n",
    "\n",
    "def _fmt_value(v, precision=6):\n",
    "    \"\"\"Format numbers cleanly for LaTeX output.\"\"\"\n",
    "    try:\n",
    "        return latex(v.evalf(precision))\n",
    "    except Exception:\n",
    "        return latex(v)\n"
   ]
  },
  {
   "cell_type": "code",
   "execution_count": null,
   "id": "97a9b603",
   "metadata": {},
   "outputs": [],
   "source": [
    "\n",
    "def handcalc(expr, values, symbol=\"y\", precision=6):\n",
    "    \"\"\"\n",
    "    Render a handcalc-style derivation with SymPy.\n",
    "    \n",
    "    Parameters\n",
    "    ----------\n",
    "    expr : sympy expression or str\n",
    "        The symbolic expression (e.g., \"a*b/c + sin(theta)\").\n",
    "    values : dict\n",
    "        Mapping from sympy Symbols (or their names) to numeric values.\n",
    "        Example: {a: 3, b: 4, c: 2, theta: 0.2}\n",
    "    symbol : str\n",
    "        Output variable symbol name used in the displayed equations.\n",
    "    precision : int\n",
    "        Number of significant digits to display in the numeric step.\n",
    "    \n",
    "    Returns\n",
    "    -------\n",
    "    numeric_value : sympy.Float\n",
    "        The numerically evaluated result of the expression after substitution.\n",
    "    \"\"\"\n",
    "    # Accept strings and convert to SymPy expressions when needed\n",
    "    if isinstance(expr, str):\n",
    "        expr = sympify(expr)\n",
    "    \n",
    "    # Allow keys in 'values' to be either Symbols or strings\n",
    "    sym_keys = {}\n",
    "    for k, v in values.items():\n",
    "        if isinstance(k, str):\n",
    "            sym_keys[sympify(k)] = v\n",
    "        else:\n",
    "            sym_keys[k] = v\n",
    "    \n",
    "    # Step 1: symbolic\n",
    "    sym_ltx = latex(expr)\n",
    "    display(Math(rf\"{symbol} = {sym_ltx}\"))\n",
    "    \n",
    "    # Step 2: substitution (symbolic expression with numbers filled in)\n",
    "    substituted = expr.subs(sym_keys)\n",
    "    sub_ltx = latex(substituted)\n",
    "    \n",
    "    # Show compact assignments line\n",
    "    assignments = \",\\; \".join([rf\"{latex(k)}={_fmt_value(v, precision)}\" for k, v in sym_keys.items()])\n",
    "    if assignments:\n",
    "        display(Math(r\"\\text{with } \" + assignments))\n",
    "    display(Math(rf\"{symbol} = {sub_ltx}\"))\n",
    "    \n",
    "    # Step 3: numeric evaluation\n",
    "    numeric_value = substituted.evalf(precision)\n",
    "    display(Math(rf\"{symbol} \\approx {latex(numeric_value)}\"))\n",
    "    return numeric_value\n"
   ]
  },
  {
   "cell_type": "markdown",
   "id": "c7617fe8",
   "metadata": {},
   "source": [
    "## Example 1 — Mixed algebraic + trigonometric expression"
   ]
  },
  {
   "cell_type": "code",
   "execution_count": null,
   "id": "2adbbd02",
   "metadata": {},
   "outputs": [],
   "source": [
    "\n",
    "a, b, c, theta = symbols('a b c theta', real=True)\n",
    "expr = a*b/c + sin(theta)\n",
    "\n",
    "vals = {a: 3.0, b: 4.0, c: 2.0, theta: 0.2}\n",
    "_ = handcalc(expr, vals, symbol=\"z\", precision=8)\n"
   ]
  },
  {
   "cell_type": "markdown",
   "id": "8ac295d2",
   "metadata": {},
   "source": [
    "## Example 2 — Kinematics (displacement)"
   ]
  },
  {
   "cell_type": "code",
   "execution_count": null,
   "id": "e8b4ed19",
   "metadata": {},
   "outputs": [],
   "source": [
    "\n",
    "# s = v0 * t + 1/2 * a * t^2\n",
    "v0, t, acc = symbols('v0 t acc', real=True)\n",
    "s_expr = v0*t + (acc * t**2) / 2\n",
    "\n",
    "vals2 = {v0: 12.5, acc: -9.81, t: 1.8}\n",
    "_ = handcalc(s_expr, vals2, symbol=\"s\", precision=6)\n"
   ]
  },
  {
   "cell_type": "markdown",
   "id": "fa520964",
   "metadata": {},
   "source": [
    "## Example 3 — Quadratic root (one branch of the formula)"
   ]
  },
  {
   "cell_type": "code",
   "execution_count": null,
   "id": "9821ae0b",
   "metadata": {},
   "outputs": [],
   "source": [
    "\n",
    "from sympy import sqrt\n",
    "a_, b_, c_ = symbols('a_ b_ c_', real=True)\n",
    "x_expr = (-b_ + sqrt(b_**2 - 4*a_*c_)) / (2*a_)\n",
    "\n",
    "vals3 = {a_: 1.0, b_: -5.0, c_: 6.0}  # roots should be 2 and 3\n",
    "_ = handcalc(x_expr, vals3, symbol=\"x\", precision=6)\n"
   ]
  }
 ],
 "metadata": {},
 "nbformat": 4,
 "nbformat_minor": 5
}
